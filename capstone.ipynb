{
 "cells": [
  {
   "cell_type": "code",
   "execution_count": 7,
   "metadata": {
    "id": "-KwyvCifXE-c"
   },
   "outputs": [],
   "source": [
    "import os\n",
    "import pickle\n",
    "\n",
    "import matplotlib.pyplot as plt\n",
    "import numpy as np\n",
    "import pandas as pd\n",
    "import plotly.express as px\n",
    "import plotly.graph_objects as go\n",
    "from sklearn.preprocessing import StandardScaler"
   ]
  },
  {
   "cell_type": "code",
   "execution_count": null,
   "metadata": {
    "id": "xZOFy1pRUNgV"
   },
   "outputs": [],
   "source": [
    "# Avoid shenenigans with backend settings from keras 3\n",
    "os.environ[\"KERAS_BACKEND\"] = \"tensorflow\"\n",
    "from keras import layers\n",
    "from keras.models import Sequential, load_model"
   ]
  },
  {
   "cell_type": "code",
   "execution_count": null,
   "metadata": {
    "colab": {
     "base_uri": "https://localhost:8080/",
     "height": 144
    },
    "executionInfo": {
     "elapsed": 187,
     "status": "error",
     "timestamp": 1729545859771,
     "user": {
      "displayName": "Zhongting Lou",
      "userId": "01974240947675965097"
     },
     "user_tz": 240
    },
    "id": "KKh8oQ2kUNgW",
    "outputId": "59917872-b198-4e92-c0f7-8c433b517b47"
   },
   "outputs": [],
   "source": [
    "sp500 = pickle.load(open(\"./sp500.pickle\", \"rb\"))"
   ]
  },
  {
   "cell_type": "code",
   "execution_count": 8,
   "metadata": {
    "id": "H-n38EZ1UNgX"
   },
   "outputs": [],
   "source": [
    "def create_windows(data, win_size):\n",
    "    X = []\n",
    "    for i in range(len(data) - win_size):\n",
    "        X.append(data[i : i + win_size])\n",
    "    return np.array(X), np.array(X)[:, :, 0]"
   ]
  },
  {
   "cell_type": "code",
   "execution_count": 9,
   "metadata": {
    "id": "cqHBmkzGUNgY"
   },
   "outputs": [],
   "source": [
    "training_windows = []\n",
    "training_labels = []\n",
    "testing_windows = {}\n",
    "testing_labels = {}\n",
    "scalars = {}\n",
    "WIN_SIZE = 7\n",
    "for symbol, stock in sp500.items():\n",
    "    stock.set_index(stock.columns[0], inplace=True)\n",
    "    stock.index = pd.to_datetime(stock.index)\n",
    "    stock[\"log_return\"] = np.log(\n",
    "        stock[\"adjusted_close\"] / stock[\"adjusted_close\"].shift(1)\n",
    "    )\n",
    "    stock[\"log_return\"] = stock[\"log_return\"].fillna(0)\n",
    "\n",
    "    stock[\"rolling_std\"] = stock[\"log_return\"].rolling(WIN_SIZE).std().fillna(0)\n",
    "\n",
    "    stock = stock[[\"log_return\", \"volume\", \"rolling_std\"]]\n",
    "    stock = stock.astype(np.float32)\n",
    "\n",
    "    train = stock.loc[stock[stock.index < \"2021-01-01\"].index]\n",
    "    test = stock.loc[stock[stock.index >= \"2021-01-01\"].index]\n",
    "\n",
    "    scaler = StandardScaler()\n",
    "\n",
    "    if not train.empty:\n",
    "        train_scaled = scaler.fit_transform(train)\n",
    "        test_scaled = scaler.transform(test)\n",
    "        train_windows, train_labels = create_windows(train_scaled, WIN_SIZE)\n",
    "        test_windows, test_labels = create_windows(test_scaled, WIN_SIZE)\n",
    "        training_windows.append(train_windows)\n",
    "        training_labels.append(train_labels)\n",
    "        testing_windows[symbol] = test_windows\n",
    "        testing_labels[symbol] = test_labels\n",
    "    else:\n",
    "        # If the stock doesn't have enough data to cover one window size, skip it\n",
    "        if len(test) < WIN_SIZE:\n",
    "            continue\n",
    "        test_scaled = scaler.fit_transform(test)\n",
    "        test_windows, test_labels = create_windows(test_scaled, WIN_SIZE)\n",
    "        testing_windows[symbol] = test_windows\n",
    "        testing_labels[symbol] = test_labels\n",
    "        scaler.fit(test)\n",
    "\n",
    "    scalars[symbol] = scaler\n",
    "\n",
    "training_windows = np.concatenate(training_windows)\n",
    "training_labels = np.concatenate(training_labels)"
   ]
  },
  {
   "cell_type": "code",
   "execution_count": null,
   "metadata": {
    "id": "XFtoa1H8UNgY",
    "outputId": "90603d8d-c8d5-4c9d-ea85-63a32a4a658a"
   },
   "outputs": [],
   "source": [
    "print(\n",
    "    training_windows.shape,\n",
    "    training_labels.shape,\n",
    "    len(testing_windows),\n",
    "    len(testing_labels),\n",
    ")"
   ]
  },
  {
   "cell_type": "markdown",
   "metadata": {
    "id": "cLwS3IXTXE-h"
   },
   "source": [
    "# Model definition and training"
   ]
  },
  {
   "cell_type": "markdown",
   "metadata": {
    "id": "uOqEa74tXE-k"
   },
   "source": [
    "## AE"
   ]
  },
  {
   "cell_type": "code",
   "execution_count": null,
   "metadata": {
    "id": "BH5pO7PaUNga",
    "outputId": "83999d0d-8e1a-4112-b83c-4877f8cbd75f"
   },
   "outputs": [],
   "source": [
    "training_windows.shape[1], training_windows.shape[2]"
   ]
  },
  {
   "cell_type": "code",
   "execution_count": null,
   "metadata": {
    "colab": {
     "base_uri": "https://localhost:8080/",
     "height": 364
    },
    "id": "SC8GGuvyXE-k",
    "outputId": "748ba5e9-32ea-4d81-d14e-209b860696be"
   },
   "outputs": [],
   "source": [
    "ae = Sequential(name=\"autoencoder\")\n",
    "# ae.add(layers.InputLayer(shape=(WIN_SIZE, 2)))\n",
    "ae.add(layers.InputLayer(shape=(WIN_SIZE, 3)))\n",
    "ae.add(layers.LSTM(32))\n",
    "# ae.add(layers.Dropout(rate=0.2))\n",
    "ae.add(layers.RepeatVector(WIN_SIZE))\n",
    "ae.add(layers.LSTM(16, return_sequences=True))\n",
    "# ae.add(layers.Dropout(rate=0.2))\n",
    "ae.add(layers.TimeDistributed(layers.Dense(1)))\n",
    "ae.add(layers.Reshape((WIN_SIZE,)))\n",
    "ae.compile(optimizer=\"adam\", loss=\"mae\")\n",
    "ae.summary()"
   ]
  },
  {
   "cell_type": "code",
   "execution_count": null,
   "metadata": {
    "colab": {
     "base_uri": "https://localhost:8080/"
    },
    "id": "bxz2YH-NXE-k",
    "outputId": "b214c9da-5f2e-4d6a-b3cd-2fb8ae1dd12b"
   },
   "outputs": [],
   "source": [
    "# early_stopping = EarlyStopping(\n",
    "#     monitor=\"val_loss\",\n",
    "#     patience=5,\n",
    "#     restore_best_weights=True,\n",
    "# )\n",
    "\n",
    "# history = ae.fit(\n",
    "#     training_windows,\n",
    "#     training_labels,\n",
    "#     epochs=30,\n",
    "#     batch_size=32,\n",
    "#     validation_split=0.2,\n",
    "#     shuffle=False,\n",
    "#     callbacks=[early_stopping],\n",
    "# )"
   ]
  },
  {
   "cell_type": "code",
   "execution_count": 11,
   "metadata": {
    "id": "M3feuL7o9kiR"
   },
   "outputs": [],
   "source": [
    "# |exporti\n",
    "\n",
    "# ae.save(\"autoencoder_vol.keras\")\n",
    "# with open(\"history_vol.pickle\", \"wb\") as f:\n",
    "#     pickle.dump(history.history, f)\n",
    "\n",
    "# with open(\"history.pickle\", \"rb\") as f:\n",
    "#     history = pickle.load(f)\n",
    "\n",
    "# ae = load_model(\"autoencoder.keras\")\n",
    "\n",
    "with open(\"history_vol.pickle\", \"rb\") as f:\n",
    "    history = pickle.load(f)\n",
    "\n",
    "ae = load_model(\"autoencoder_vol.keras\")"
   ]
  },
  {
   "cell_type": "code",
   "execution_count": null,
   "metadata": {
    "id": "J8PCCfdo9kiR",
    "outputId": "dc319d03-f835-421b-ee4a-c976e874ddd5"
   },
   "outputs": [],
   "source": [
    "# plt.plot(history.history[\"loss\"], label=\"Training Loss\")\n",
    "# plt.plot(history.history[\"val_loss\"], label=\"Validation Loss\")\n",
    "plt.plot(history[\"loss\"], label=\"Training Loss\")\n",
    "plt.plot(history[\"val_loss\"], label=\"Validation Loss\")\n",
    "plt.legend()\n",
    "plt.show()"
   ]
  },
  {
   "cell_type": "code",
   "execution_count": null,
   "metadata": {
    "id": "Zmkv83MG9kiR",
    "outputId": "0ba20643-1df7-4b71-9a5a-b8cfc40e3317"
   },
   "outputs": [],
   "source": [
    "train_predictions = ae.predict(training_windows)\n",
    "train_mae_loss = np.mean(np.abs(train_predictions - training_labels), axis=1)"
   ]
  },
  {
   "cell_type": "code",
   "execution_count": null,
   "metadata": {
    "id": "K1QnN5O99kiR",
    "outputId": "42ed9753-e0db-4431-d584-680c9d608a73"
   },
   "outputs": [],
   "source": [
    "THRESHOLD = np.percentile(train_mae_loss, 90)\n",
    "THRESHOLD"
   ]
  },
  {
   "cell_type": "code",
   "execution_count": null,
   "metadata": {},
   "outputs": [],
   "source": [
    "fig = px.histogram(\n",
    "    train_mae_loss[train_mae_loss < THRESHOLD],\n",
    "    nbins=100,\n",
    "    title=\"Training MAE Loss Distribution\",\n",
    ")\n",
    "fig.show()"
   ]
  },
  {
   "cell_type": "code",
   "execution_count": null,
   "metadata": {},
   "outputs": [],
   "source": [
    "# Demonstrate the threshold with AAPL\n",
    "\n",
    "test_predictions = ae.predict(testing_windows[\"AAPL\"])\n",
    "test_mae_loss = np.mean(np.abs(test_predictions - testing_labels[\"AAPL\"]), axis=1)\n",
    "plot_data = sp500[\"AAPL\"].loc[sp500[\"AAPL\"].index >= \"2021-01-01\"]\n",
    "\n",
    "fig = px.line(\n",
    "    x=plot_data[:-WIN_SIZE].index,\n",
    "    y=test_mae_loss,\n",
    "    title=\"Anomalies Detected on AAPL\",\n",
    "    labels={\"x\": \"Date\", \"y\": \"MAE Loss\"},\n",
    ")\n",
    "fig.add_hline(\n",
    "    y=THRESHOLD,\n",
    "    line_dash=\"dash\",\n",
    "    annotation_text=\"Threshold\",\n",
    "    annotation_position=\"top left\",\n",
    "    line_color=\"red\",\n",
    ")\n",
    "fig.show()"
   ]
  },
  {
   "cell_type": "code",
   "execution_count": 18,
   "metadata": {
    "id": "lg8GBLaEUNgb"
   },
   "outputs": [],
   "source": [
    "import ipywidgets as widgets\n",
    "from IPython.display import HTML"
   ]
  },
  {
   "cell_type": "code",
   "execution_count": 19,
   "metadata": {
    "id": "wYbc02S_UNgb"
   },
   "outputs": [],
   "source": [
    "fig = go.FigureWidget()\n",
    "fig_returns = go.FigureWidget()\n",
    "anomaly_list = widgets.Output()\n",
    "\n",
    "\n",
    "def on_click(stock):\n",
    "    test_pred = ae.predict(testing_windows[stock], verbose=0)\n",
    "    test_mae_loss = np.mean(np.abs(test_pred - testing_labels[stock]), axis=1)\n",
    "\n",
    "    # threshold = np.percentile(test_mae_loss, 95)\n",
    "\n",
    "    # is_anomaly = test_mae_loss > threshold\n",
    "    is_anomaly = test_mae_loss > THRESHOLD\n",
    "    plot_data = sp500[stock].loc[sp500[stock].index >= \"2021-01-01\"]\n",
    "    anomalies = plot_data[:-WIN_SIZE][is_anomaly]\n",
    "    with anomaly_list:\n",
    "        anomaly_list.clear_output()\n",
    "        anomalies_data = anomalies.loc[:, [\"adjusted_close\", \"log_return\"]]\n",
    "        anomalies_data[\"return%\"] = (np.exp(anomalies_data[\"log_return\"]) - 1) * 100\n",
    "        anomalies_data[\"period_mae\"] = test_mae_loss[is_anomaly]\n",
    "\n",
    "        #\n",
    "\n",
    "        anomalies_data[\"threshold\"] = THRESHOLD\n",
    "        anomalies_data.index.name = \"start_of_period\"\n",
    "        display(\n",
    "            HTML(\n",
    "                \"<div style='overflow: auto; height: 500px; width: fit-content'>\"\n",
    "                + anomalies_data.to_html()\n",
    "                + \"</div>\"\n",
    "            )\n",
    "        )\n",
    "    fig.data = []\n",
    "    fig_returns.data = []\n",
    "\n",
    "    fig.add_trace(\n",
    "        px.line(\n",
    "            data_frame=plot_data,\n",
    "            x=plot_data.index,\n",
    "            y=\"adjusted_close\",\n",
    "            title=f\"Stock Price and Anomalies for {stock}\",\n",
    "            width=1200,\n",
    "        ).data[0]\n",
    "    )\n",
    "    fig_returns.add_trace(\n",
    "        px.line(\n",
    "            data_frame=plot_data,\n",
    "            x=plot_data.index,\n",
    "            y=\"log_return\",\n",
    "            title=f\"Stock Returns and Anomalies for {stock}\",\n",
    "            width=1200,\n",
    "        ).data[0]\n",
    "    )\n",
    "\n",
    "    fig.add_trace(\n",
    "        go.Scatter(\n",
    "            x=anomalies.index,\n",
    "            y=plot_data.loc[anomalies.index, \"adjusted_close\"],\n",
    "            mode=\"markers\",\n",
    "            marker=dict(color=\"red\", size=3),\n",
    "            name=\"Anomaly\",\n",
    "        )\n",
    "    )\n",
    "    fig_returns.add_trace(\n",
    "        go.Scatter(\n",
    "            x=anomalies.index,\n",
    "            y=plot_data.loc[anomalies.index, \"log_return\"],\n",
    "            mode=\"markers\",\n",
    "            marker=dict(color=\"red\", size=3),\n",
    "            name=\"Anomaly\",\n",
    "        )\n",
    "    )\n",
    "\n",
    "    fig.update_layout(\n",
    "        title=f\"Stock Price and Anomalies for {stock}\",\n",
    "        xaxis_title=\"Time\",\n",
    "        yaxis_title=\"Price\",\n",
    "    )\n",
    "    fig_returns.update_layout(\n",
    "        title=f\"Stock Returns and Anomalies for {stock}\",\n",
    "        xaxis_title=\"Time\",\n",
    "        yaxis_title=\"log Returns\",\n",
    "    )\n",
    "\n",
    "    # with output:\n",
    "    #     output.outputs = []\n",
    "    # fig.show()"
   ]
  },
  {
   "cell_type": "code",
   "execution_count": null,
   "metadata": {
    "colab": {
     "referenced_widgets": [
      "eb44d64f50014bc7a6b23ffb8abdcf2d",
      "4d2899b4e7a84967bea69e9ce86cf19b"
     ]
    },
    "id": "7BuAGLcHUNgb",
    "outputId": "25ca7f99-5bff-4390-a81e-d0e0051b93f0"
   },
   "outputs": [],
   "source": [
    "stock_dropdown = widgets.Dropdown(\n",
    "    options=testing_windows.keys(),\n",
    "    description=\"Stock:\",\n",
    "    disabled=False,\n",
    ")\n",
    "\n",
    "submit_button = widgets.Button(description=\"Submit\")\n",
    "submit_button.on_click(lambda _: on_click(stock_dropdown.value))\n",
    "\n",
    "toolbar = widgets.HBox([stock_dropdown, submit_button])\n",
    "plots_display = widgets.VBox([fig, fig_returns], layout=widgets.Layout(width=\"70%\"))\n",
    "anomalies_display = widgets.VBox(\n",
    "    [\n",
    "        widgets.HTML(\"<h2>List of Anomalies</h2>\"),\n",
    "        anomaly_list,\n",
    "    ]\n",
    ")\n",
    "results_display = widgets.HBox(\n",
    "    [plots_display, anomalies_display],\n",
    "    layout=widgets.Layout(display=\"flex\"),\n",
    ")\n",
    "ui = widgets.VBox([toolbar, results_display])\n",
    "\n",
    "display(ui)"
   ]
  },
  {
   "cell_type": "markdown",
   "metadata": {
    "id": "gCoA3wuUXE-l"
   },
   "source": []
  }
 ],
 "metadata": {
  "colab": {
   "collapsed_sections": [
    "uOqEa74tXE-k"
   ],
   "provenance": []
  },
  "kernelspec": {
   "display_name": "Python 3",
   "language": "python",
   "name": "python3"
  },
  "language_info": {
   "codemirror_mode": {
    "name": "ipython",
    "version": 3
   },
   "file_extension": ".py",
   "mimetype": "text/x-python",
   "name": "python",
   "nbconvert_exporter": "python",
   "pygments_lexer": "ipython3",
   "version": "3.12.7"
  }
 },
 "nbformat": 4,
 "nbformat_minor": 0
}
